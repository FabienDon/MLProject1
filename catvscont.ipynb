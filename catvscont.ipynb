{
 "cells": [
  {
   "cell_type": "code",
   "execution_count": null,
   "id": "3e12c59f",
   "metadata": {},
   "outputs": [],
   "source": [
    "categorical = [\n",
    "    'GENHLTH', '_RFHLTH', 'PERSDOC2', 'CHECKUP1', 'CHCCOPD1', 'HAVARTH3', 'CHCSCNCR', 'CHCOCNCR',\n",
    "    'CVDSTRK3', 'ADDEPEV2', 'CHCKIDNY', 'DIABETE3', 'FLUSHOT6', 'PNEUVAC3', '_RFHYPE5', 'BPHIGH4',\n",
    "    '_RFCHOL', '_CHOLCHK', 'CHOLCHK', 'TOLDHI2', 'BLOODCHO', '_ASTHMS1', '_CASTHM1', '_LTASTH1', 'ASTHMA3', 'HIVTST6', '_AIDTST3', 'SEX',\n",
    "    '_AGEG5YR', '_AGE65YR', '_AGE80', '_AGE_G', '_LMTSCL1', '_LMTACT1', '_BMI5CA', '_RFBMI5', 'QLACTLM2','EXERANY2', \n",
    "    '_TOTINDA', 'PAMISS1_', '_PACAT1', '_PAINDX1', '_PASTRNG', '_PAREC1', '_PASTAE1',\n",
    "    '_LMTACT1', '_LMTWRK1', 'SMOKE100', 'USENOW3', '_SMOKER3', '_RFSMOK3', 'DRNKANY5', '_RFBING5',\n",
    "    '_RFDRHV5', '_MISFRTN', '_MISVEGN', '_FRTRESP', '_VEGRESP', '_FRTLT1', '_VEGLT1',\n",
    "    '_FRT16', '_VEG23', '_FRUITEX', '_VEGETEX'\n",
    "]\n",
    "\n",
    "continuous = [\n",
    "    'PHYSHLTH', 'MENTHLTH', 'MAXVO2_', 'FC60_', 'WEIGHT2', 'HEIGHT3', 'HTIN4', 'HTM4', 'WTKG3', '_BMI5',\n",
    "    'STRENGTH', 'STRFREQ_', 'ALCDAY5', 'FRUITJU1', 'FRUIT1', 'FVBEANS', 'FVGREEN', 'FVORANG', 'VEGETAB1', 'DROCDY3_', '_DRNKWEK', 'FRUTDA1_', 'FTJUDA1_', 'BEANDAY_',\n",
    "    'GRENDAY_', 'ORNGDAY_', 'VEGEDA1_', 'FRUTSUM', 'VEGESUM',\n",
    "]"
   ]
  }
 ],
 "metadata": {
  "language_info": {
   "name": "python"
  }
 },
 "nbformat": 4,
 "nbformat_minor": 5
}
