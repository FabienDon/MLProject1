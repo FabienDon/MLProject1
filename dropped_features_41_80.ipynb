{
 "cells": [
  {
   "cell_type": "code",
   "execution_count": 21,
   "id": "81dbcaa6",
   "metadata": {},
   "outputs": [],
   "source": [
    "import helpers\n",
    "import numpy as np\n",
    "import matplotlib.pyplot as plt"
   ]
  },
  {
   "cell_type": "code",
   "execution_count": 22,
   "id": "971f29b5",
   "metadata": {},
   "outputs": [],
   "source": [
    "import os\n",
    "import numpy as np\n",
    "\n",
    "def load_csv_data(data_path, sub_sample=False, keep_cols=None):\n",
    "    \"\"\"\n",
    "    Load CSV data and also return column names.\n",
    "    \"\"\"\n",
    "    # --- Read header (for feature names) ---\n",
    "    with open(os.path.join(data_path, \"x_train.csv\"), \"r\") as f:\n",
    "        header = f.readline().strip().split(\",\")\n",
    "    feature_names = header[1:]  # drop the first column (\"Id\")\n",
    "\n",
    "    # --- Load arrays ---\n",
    "    y_train = np.genfromtxt(\n",
    "        os.path.join(data_path, \"y_train.csv\"),\n",
    "        delimiter=\",\",\n",
    "        skip_header=1,\n",
    "        dtype=int,\n",
    "        usecols=1,\n",
    "    )\n",
    "    x_train = np.genfromtxt(\n",
    "        os.path.join(data_path, \"x_train.csv\"), delimiter=\",\", skip_header=1\n",
    "    )\n",
    "    x_test = np.genfromtxt(\n",
    "        os.path.join(data_path, \"x_test.csv\"), delimiter=\",\", skip_header=1\n",
    "    )\n",
    "\n",
    "    train_ids = x_train[:, 0].astype(int)\n",
    "    test_ids = x_test[:, 0].astype(int)\n",
    "    x_train = x_train[:, 1:]\n",
    "    x_test = x_test[:, 1:]\n",
    "\n",
    "    # --- Keep only selected columns (if specified) ---\n",
    "    if keep_cols is not None:\n",
    "        x_train = x_train[:, keep_cols]\n",
    "        x_test = x_test[:, keep_cols]\n",
    "        feature_names = [feature_names[i] for i in keep_cols]\n",
    "\n",
    "    # --- Sub-sample ---\n",
    "    if sub_sample:\n",
    "        y_train = y_train[::50]\n",
    "        x_train = x_train[::50]\n",
    "        train_ids = train_ids[::50]\n",
    "\n",
    "    return x_train, x_test, y_train, train_ids, test_ids, feature_names\n"
   ]
  },
  {
   "cell_type": "code",
   "execution_count": 23,
   "id": "c6f02bc8",
   "metadata": {},
   "outputs": [],
   "source": [
    "fields_to_drop = [\n",
    "    \"_STATE\",\n",
    "    \"FMONTH\",\n",
    "    \"IDATE\",\n",
    "    \"IMONTH\",\n",
    "    \"IDAY\",\n",
    "    \"IYEAR\",\n",
    "    \"DISPCODE\",\n",
    "    \"SEQNO\",\n",
    "    \"_PSU\",\n",
    "    \"CTELENUM\",\n",
    "    \"PVTRESD1\",\n",
    "    \"STATERES\",\n",
    "    \"CELLFON3\",\n",
    "    \"LADULT\",\n",
    "    \"NUMADULT\",\n",
    "    \"NUMMEN\",\n",
    "    \"NUMWOMEN\",\n",
    "    \"CTELNUM1\",\n",
    "    \"CELLFON2\",\n",
    "    \"CADULT\",\n",
    "    \"PVTRESD2\",\n",
    "    \"CSTATE\",\n",
    "    \"LANDLINE\",\n",
    "    \"HHADULT\",\n",
    "    \"HLTHPLN1\",\n",
    "    \"PERSDOC2\", # keep ?\n",
    "    \"MARITAL\",\n",
    "    \"EDUCA\",\n",
    "    \"RENTHOM1\",\n",
    "    \"NUMHHOL2\",\n",
    "    \"NUMPHON2\",\n",
    "    \"CPDEMO1\",\n",
    "    \"VETERAN3\",\n",
    "    \"EMPLOY1\",\n",
    "    \"CHILDREN\",\n",
    "    \"INCOME2\",\n",
    "    \"INTERNET\",\n",
    "    \"MEDCOST\",\n",
    "    \"USEEQUIP\",\n",
    "    \"BLIND\",\n",
    "    \"DECIDE\", \n",
    "    \"DIFFWALK\",\n",
    "    \"DIFFDRES\",\n",
    "    \"DIFFALON\",\n",
    "    \"EXERANY2\", #probably to keep?\n",
    "    \"EXRACT11\", #probably to keep?\n",
    "    \"EXEROFT1\",#probably to keep?\n",
    "    \"EXERHMM1\",#probably to keep?\n",
    "    \"EXRACT21\", #probably to keep?\n",
    "    \"EXEROFT2\", #probably to keep?\n",
    "    \"EXERHMM2\",#probably to keep? \n",
    "    \"STRENGTH\", #probably to keep?\n",
    "    \"SEATBELT\", \n",
    "    \"IMFVPLAC\", # ajouté\n",
    "    \"CAREGIV1\",\n",
    "    \"CRGVREL1\",\n",
    "    \"CRGVLNG1\",\n",
    "    \"CRGVHRS1\",\n",
    "    \"CRGVPRB1\",\n",
    "    \"CRGVPERS\",\n",
    "    \"CRGVHOUS\",\n",
    "    \"CRGVEXPT\",\n",
    "    \"VINOCRE2\",\n",
    "    \"VIINSUR2\",\n",
    "    \"CDHELP\",\n",
    "    \"SXORIENT\", # jusqu'ici\n",
    "    \"TRNSGNDR\",\n",
    "    \"RCSGENDR\", #\n",
    "    \"RCSRLTN2\", # \n",
    "    \"QSTVER\",\n",
    "    \"QSTLANG\",\n",
    "    \"MSCODE\",\n",
    "    '_STSTR',\n",
    "    '_STRWT',\n",
    "    '_RAWRAKE',\n",
    "    '_WT2RAKE',\n",
    "    '_CHISPNC',\n",
    "    '_DUALUSE',\n",
    "    '_DUALCOR',\n",
    "    '_LLCPWT',\n",
    "    '_HCVU651',\n",
    "    '_DRDXAR1',\n",
    "    '_PRACE1',\n",
    "    '_MRACE1',\n",
    "    '_HISPANC',\n",
    "    '_RACE',\n",
    "    '_RACEG21',\n",
    "    '_RACEGR3',\n",
    "    '_RACE_G1',\n",
    "    '_CHLDCNT',\n",
    "    '_EDUCAG',\n",
    "    '_INCOMG',\n",
    "    '_RFSEAT2',\n",
    "    '_RFSEAT3',\n",
    "    \n",
    "]\n"
   ]
  },
  {
   "cell_type": "code",
   "execution_count": 24,
   "id": "a442a9c3",
   "metadata": {},
   "outputs": [],
   "source": [
    "x_train, x_test, y_train, train_ids, test_ids, feature_names = load_csv_data('data/dataset')"
   ]
  },
  {
   "cell_type": "code",
   "execution_count": 25,
   "id": "8d28d9f6",
   "metadata": {},
   "outputs": [
    {
     "data": {
      "text/plain": [
       "(328135, 321)"
      ]
     },
     "execution_count": 25,
     "metadata": {},
     "output_type": "execute_result"
    }
   ],
   "source": [
    "np.shape(x_train)"
   ]
  },
  {
   "cell_type": "markdown",
   "id": "ad2f4944",
   "metadata": {},
   "source": [
    "# Drop feautures with >70% of nan's"
   ]
  },
  {
   "cell_type": "code",
   "execution_count": 26,
   "id": "8c4c3599",
   "metadata": {},
   "outputs": [
    {
     "name": "stdout",
     "output_type": "stream",
     "text": [
      "Keeping 200 features\n"
     ]
    }
   ],
   "source": [
    "nan_counts = np.isnan(x_train).sum(axis=0)\n",
    "nan_percent = nan_counts / x_train.shape[0] * 100\n",
    "\n",
    "\n",
    "threshold = 70.0  # drop features with >90% NaNs\n",
    "\n",
    "keep_indices = [i for i, pct in enumerate(nan_percent) if pct <= threshold]\n",
    "keep_names   = [feature_names[i] for i in keep_indices]\n",
    "\n",
    "print(\"Keeping\", len(keep_indices), \"features\")"
   ]
  },
  {
   "cell_type": "markdown",
   "id": "a836a6e0",
   "metadata": {},
   "source": [
    "# Drop selected feautures from list"
   ]
  },
  {
   "cell_type": "code",
   "execution_count": 27,
   "id": "dc6455dd",
   "metadata": {},
   "outputs": [],
   "source": [
    "drop_indices = [feature_names.index(name) for name in fields_to_drop]\n",
    "keep_indices = [i for i in range(len(feature_names)) if (i not in drop_indices and i in keep_indices)]\n",
    "keep_names   = [feature_names[i] for i in keep_indices]"
   ]
  },
  {
   "cell_type": "code",
   "execution_count": 28,
   "id": "3b0cbdd7",
   "metadata": {},
   "outputs": [],
   "source": [
    "x_train_clean = x_train[:, keep_indices]\n",
    "x_test_clean  = x_test[:, keep_indices]"
   ]
  },
  {
   "cell_type": "code",
   "execution_count": 33,
   "id": "038f894c",
   "metadata": {},
   "outputs": [
    {
     "data": {
      "text/plain": [
       "121"
      ]
     },
     "execution_count": 33,
     "metadata": {},
     "output_type": "execute_result"
    }
   ],
   "source": [
    "len(keep_names)"
   ]
  },
  {
   "cell_type": "code",
   "execution_count": 37,
   "id": "008a0753",
   "metadata": {},
   "outputs": [],
   "source": [
    "keep_names41_80= keep_names.copy()\n",
    "keep_names41_80 = keep_names41_80[40:80]\n",
    "\n",
    "fields_to_drop4180 = [\n",
    "    \"FLUSHOT6\", # vaccins, pas assez d'impact je pense\n",
    "    'FLSHTMY2',\n",
    "    'PNEUVAC3',\n",
    "    'HIVTST6',\n",
    "    '_AGE65YR', # On a _AGE65YR qui classe plus précisément les ages\n",
    "    '_AGE80',\n",
    "    '_AGE_G',\n",
    "    'HTIN4', # On a l'age en mètres\n",
    "    '_RFBMI5', # on a plus précis\n",
    "    '_RFSMOK3',\n",
    "]\n",
    "\n",
    "# ok jusqu'à '_RFDRHV5'\n",
    "\n",
    "keep_names41_80 = [col for col in keep_names41_80 if col not in fields_to_drop4180]\n"
   ]
  },
  {
   "cell_type": "markdown",
   "id": "d1a70c0f",
   "metadata": {},
   "source": []
  },
  {
   "cell_type": "code",
   "execution_count": 38,
   "id": "d46234df",
   "metadata": {},
   "outputs": [
    {
     "data": {
      "text/plain": [
       "['_RFHLTH',\n",
       " '_RFHYPE5',\n",
       " '_CHOLCHK',\n",
       " '_RFCHOL',\n",
       " '_LTASTH1',\n",
       " '_CASTHM1',\n",
       " '_ASTHMS1',\n",
       " '_AGEG5YR',\n",
       " 'HTM4',\n",
       " 'WTKG3',\n",
       " '_BMI5',\n",
       " '_BMI5CAT',\n",
       " '_SMOKER3',\n",
       " 'DRNKANY5',\n",
       " 'DROCDY3_',\n",
       " '_RFBING5',\n",
       " '_DRNKWEK',\n",
       " '_RFDRHV5',\n",
       " 'FTJUDA1_',\n",
       " 'FRUTDA1_',\n",
       " 'BEANDAY_',\n",
       " 'GRENDAY_',\n",
       " 'ORNGDAY_',\n",
       " 'VEGEDA1_',\n",
       " '_MISFRTN',\n",
       " '_MISVEGN',\n",
       " '_FRTRESP',\n",
       " '_VEGRESP',\n",
       " '_FRUTSUM',\n",
       " '_VEGESUM']"
      ]
     },
     "execution_count": 38,
     "metadata": {},
     "output_type": "execute_result"
    }
   ],
   "source": [
    "keep_names41_80"
   ]
  }
 ],
 "metadata": {
  "kernelspec": {
   "display_name": "base",
   "language": "python",
   "name": "python3"
  },
  "language_info": {
   "codemirror_mode": {
    "name": "ipython",
    "version": 3
   },
   "file_extension": ".py",
   "mimetype": "text/x-python",
   "name": "python",
   "nbconvert_exporter": "python",
   "pygments_lexer": "ipython3",
   "version": "3.13.5"
  }
 },
 "nbformat": 4,
 "nbformat_minor": 5
}
