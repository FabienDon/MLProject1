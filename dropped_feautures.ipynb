{
 "cells": [
  {
   "cell_type": "code",
   "execution_count": 10,
   "id": "81dbcaa6",
   "metadata": {},
   "outputs": [],
   "source": [
    "import helpers\n",
    "import numpy as np\n",
    "import matplotlib.pyplot as plt"
   ]
  },
  {
   "cell_type": "code",
   "execution_count": 116,
   "id": "971f29b5",
   "metadata": {},
   "outputs": [],
   "source": [
    "import os\n",
    "import numpy as np\n",
    "\n",
    "def load_csv_data(data_path, sub_sample=False, keep_cols=None):\n",
    "    \"\"\"\n",
    "    Load CSV data and also return column names.\n",
    "    \"\"\"\n",
    "    # --- Read header (for feature names) ---\n",
    "    with open(os.path.join(data_path, \"x_train.csv\"), \"r\") as f:\n",
    "        header = f.readline().strip().split(\",\")\n",
    "    feature_names = header[1:]  # drop the first column (\"Id\")\n",
    "\n",
    "    # --- Load arrays ---\n",
    "    y_train = np.genfromtxt(\n",
    "        os.path.join(data_path, \"y_train.csv\"),\n",
    "        delimiter=\",\",\n",
    "        skip_header=1,\n",
    "        dtype=int,\n",
    "        usecols=1,\n",
    "    )\n",
    "    x_train = np.genfromtxt(\n",
    "        os.path.join(data_path, \"x_train.csv\"), delimiter=\",\", skip_header=1\n",
    "    )\n",
    "    x_test = np.genfromtxt(\n",
    "        os.path.join(data_path, \"x_test.csv\"), delimiter=\",\", skip_header=1\n",
    "    )\n",
    "\n",
    "    train_ids = x_train[:, 0].astype(int)\n",
    "    test_ids = x_test[:, 0].astype(int)\n",
    "    x_train = x_train[:, 1:]\n",
    "    x_test = x_test[:, 1:]\n",
    "\n",
    "    # --- Keep only selected columns (if specified) ---\n",
    "    if keep_cols is not None:\n",
    "        x_train = x_train[:, keep_cols]\n",
    "        x_test = x_test[:, keep_cols]\n",
    "        feature_names = [feature_names[i] for i in keep_cols]\n",
    "\n",
    "    # --- Sub-sample ---\n",
    "    if sub_sample:\n",
    "        y_train = y_train[::50]\n",
    "        x_train = x_train[::50]\n",
    "        train_ids = train_ids[::50]\n",
    "\n",
    "    return x_train, x_test, y_train, train_ids, test_ids, feature_names\n"
   ]
  },
  {
   "cell_type": "code",
   "execution_count": 112,
   "id": "c6f02bc8",
   "metadata": {},
   "outputs": [],
   "source": [
    "fields_to_drop = [\n",
    "    \"_STATE\",\n",
    "    \"FMONTH\",\n",
    "    \"IDATE\",\n",
    "    \"IMONTH\",\n",
    "    \"IDAY\",\n",
    "    \"IYEAR\",\n",
    "    \"DISPCODE\",\n",
    "    \"SEQNO\",\n",
    "    \"_PSU\",\n",
    "    \"CTELENUM\",\n",
    "    \"PVTRESD1\",\n",
    "    \"STATERES\",\n",
    "    \"CELLFON3\",\n",
    "    \"NUMADULT\",\n",
    "    \"NUMMEN\",\n",
    "    \"NUMWOMEN\",\n",
    "    \"CTELNUM1\",\n",
    "    \"CELLFON2\",\n",
    "    \"CADULT\",\n",
    "    \"PVTRESD2\",\n",
    "    \"CSTATE\",\n",
    "    \"LANDLINE\",\n",
    "    \"HHADULT\",\n",
    "    \"HLTHPLN1\",\n",
    "    \"PERSDOC2\",\n",
    "    \"MARITAL\",\n",
    "    \"EDUCA\",\n",
    "    \"RENTHOM1\",\n",
    "    \"NUMHHOL2\",\n",
    "    \"CPDEMO1\",\n",
    "    \"VETERAN3\",\n",
    "    \"EMPLOY1\",\n",
    "    \"CHILDREN\",\n",
    "    \"INCOME2\",\n",
    "    \"INTERNET\",\n",
    "    \"MEDCOST\",\n",
    "    \"USEEQUIP\",\n",
    "    \"BLIND\",\n",
    "    \"DECIDE\", \n",
    "    \"DIFFWALK\",\n",
    "    \"DIFFDRES\",\n",
    "    \"DIFFALON\",\n",
    "    \"EXERANY2\", #probably to keep?\n",
    "    \"EXRACT11\", #probably to keep?\n",
    "    \"EXEROFT1\",#probably to keep?\n",
    "    \"EXERHMM1\",#probably to keep?\n",
    "    \"EXRACT21\", #probably to keep?\n",
    "    \"EXEROFT2\", #probably to keep?\n",
    "    \"EXERHMM2\",#probably to keep?\n",
    "    \"STRENGTH\", #probably to keep?\n",
    "    \"SEATBELT\", \n",
    "    \"IMFVPLAC\",\n",
    "    \"SXORIENT\",\n",
    "    \"TRNSGNDR\", \n",
    "    \"QSTVER\",\n",
    "    \"QSTLANG\",\n",
    "    \"MSCODE\",\n",
    "    '_STSTR',\n",
    "    '_STRWT',\n",
    "    '_RAWRAKE',\n",
    "    '_WT2RAKE',\n",
    "    '_CHISPNC',\n",
    "    '_DUALUSE',\n",
    "    '_DUALCOR',\n",
    "    '_LLCPWT',\n",
    "    '_HCVU651',\n",
    "    '_DRDXAR1',\n",
    "    '_PRACE1',\n",
    "    '_MRACE1',\n",
    "    '_HISPANC',\n",
    "    '_RACE',\n",
    "    '_RACEG21',\n",
    "    '_RACEGR3',\n",
    "    '_RACE_G1',\n",
    "    '_CHLDCNT',\n",
    "    '_EDUCAG',\n",
    "    '_INCOMG',\n",
    "    '_RFSEAT2',\n",
    "    '_RFSEAT3',\n",
    "    \n",
    "]\n"
   ]
  },
  {
   "cell_type": "code",
   "execution_count": 118,
   "id": "a442a9c3",
   "metadata": {},
   "outputs": [],
   "source": [
    "x_train, x_test, y_train, train_ids, test_ids, feature_names = load_csv_data('data/dataset')"
   ]
  },
  {
   "cell_type": "code",
   "execution_count": 119,
   "id": "8d28d9f6",
   "metadata": {},
   "outputs": [
    {
     "data": {
      "text/plain": [
       "(328135, 321)"
      ]
     },
     "execution_count": 119,
     "metadata": {},
     "output_type": "execute_result"
    }
   ],
   "source": [
    "np.shape(x_train)"
   ]
  },
  {
   "cell_type": "markdown",
   "id": "ad2f4944",
   "metadata": {},
   "source": [
    "# Drop feautures with >70% of nan's"
   ]
  },
  {
   "cell_type": "code",
   "execution_count": 120,
   "id": "8c4c3599",
   "metadata": {},
   "outputs": [
    {
     "name": "stdout",
     "output_type": "stream",
     "text": [
      "Keeping 200 features\n"
     ]
    }
   ],
   "source": [
    "nan_counts = np.isnan(x_train).sum(axis=0)\n",
    "nan_percent = nan_counts / x_train.shape[0] * 100\n",
    "\n",
    "\n",
    "threshold = 70.0  # drop features with >90% NaNs\n",
    "\n",
    "keep_indices = [i for i, pct in enumerate(nan_percent) if pct <= threshold]\n",
    "keep_names   = [feature_names[i] for i in keep_indices]\n",
    "\n",
    "print(\"Keeping\", len(keep_indices), \"features\")"
   ]
  },
  {
   "cell_type": "markdown",
   "id": "a836a6e0",
   "metadata": {},
   "source": [
    "# Drop selected feautures from list"
   ]
  },
  {
   "cell_type": "code",
   "execution_count": 121,
   "id": "dc6455dd",
   "metadata": {},
   "outputs": [],
   "source": [
    "drop_indices = [feature_names.index(name) for name in fields_to_drop]\n",
    "keep_indices = [i for i in range(len(feature_names)) if (i not in drop_indices and i in keep_indices)]\n",
    "keep_names   = [feature_names[i] for i in keep_indices]"
   ]
  },
  {
   "cell_type": "code",
   "execution_count": 122,
   "id": "3b0cbdd7",
   "metadata": {},
   "outputs": [],
   "source": [
    "x_train_clean = x_train[:, keep_indices]\n",
    "x_test_clean  = x_test[:, keep_indices]"
   ]
  },
  {
   "cell_type": "code",
   "execution_count": 123,
   "id": "038f894c",
   "metadata": {},
   "outputs": [
    {
     "data": {
      "text/plain": [
       "121"
      ]
     },
     "execution_count": 123,
     "metadata": {},
     "output_type": "execute_result"
    }
   ],
   "source": [
    "len(keep_names)"
   ]
  },
  {
   "cell_type": "code",
   "execution_count": 124,
   "id": "008a0753",
   "metadata": {},
   "outputs": [
    {
     "data": {
      "text/plain": [
       "['GENHLTH',\n",
       " 'PHYSHLTH',\n",
       " 'MENTHLTH',\n",
       " 'POORHLTH',\n",
       " 'CHECKUP1',\n",
       " 'BPHIGH4',\n",
       " 'BPMEDS',\n",
       " 'BLOODCHO',\n",
       " 'CHOLCHK',\n",
       " 'TOLDHI2',\n",
       " 'CVDSTRK3',\n",
       " 'ASTHMA3',\n",
       " 'CHCSCNCR',\n",
       " 'CHCOCNCR',\n",
       " 'CHCCOPD1',\n",
       " 'HAVARTH3',\n",
       " 'ADDEPEV2',\n",
       " 'CHCKIDNY',\n",
       " 'DIABETE3',\n",
       " 'SEX',\n",
       " 'WEIGHT2',\n",
       " 'HEIGHT3',\n",
       " 'QLACTLM2',\n",
       " 'SMOKE100',\n",
       " 'SMOKDAY2',\n",
       " 'USENOW3',\n",
       " 'ALCDAY5',\n",
       " 'AVEDRNK2',\n",
       " 'DRNK3GE5',\n",
       " 'MAXDRNKS',\n",
       " 'FRUITJU1',\n",
       " 'FRUIT1',\n",
       " 'FVBEANS',\n",
       " 'FVGREEN',\n",
       " 'FVORANG',\n",
       " 'VEGETAB1',\n",
       " 'LMTJOIN3',\n",
       " 'ARTHDIS2',\n",
       " 'ARTHSOCL',\n",
       " 'JOINPAIN',\n",
       " 'FLUSHOT6',\n",
       " 'FLSHTMY2',\n",
       " 'PNEUVAC3',\n",
       " 'HIVTST6',\n",
       " '_RFHLTH',\n",
       " '_RFHYPE5',\n",
       " '_CHOLCHK',\n",
       " '_RFCHOL',\n",
       " '_LTASTH1',\n",
       " '_CASTHM1',\n",
       " '_ASTHMS1',\n",
       " '_AGEG5YR',\n",
       " '_AGE65YR',\n",
       " '_AGE80',\n",
       " '_AGE_G',\n",
       " 'HTIN4',\n",
       " 'HTM4',\n",
       " 'WTKG3',\n",
       " '_BMI5',\n",
       " '_BMI5CAT',\n",
       " '_RFBMI5',\n",
       " '_SMOKER3',\n",
       " '_RFSMOK3',\n",
       " 'DRNKANY5',\n",
       " 'DROCDY3_',\n",
       " '_RFBING5',\n",
       " '_DRNKWEK',\n",
       " '_RFDRHV5',\n",
       " 'FTJUDA1_',\n",
       " 'FRUTDA1_',\n",
       " 'BEANDAY_',\n",
       " 'GRENDAY_',\n",
       " 'ORNGDAY_',\n",
       " 'VEGEDA1_',\n",
       " '_MISFRTN',\n",
       " '_MISVEGN',\n",
       " '_FRTRESP',\n",
       " '_VEGRESP',\n",
       " '_FRUTSUM',\n",
       " '_VEGESUM',\n",
       " '_FRTLT1',\n",
       " '_VEGLT1',\n",
       " '_FRT16',\n",
       " '_VEG23',\n",
       " '_FRUITEX',\n",
       " '_VEGETEX',\n",
       " '_TOTINDA',\n",
       " 'METVL11_',\n",
       " 'METVL21_',\n",
       " 'MAXVO2_',\n",
       " 'FC60_',\n",
       " 'ACTIN11_',\n",
       " 'ACTIN21_',\n",
       " 'PADUR1_',\n",
       " 'PADUR2_',\n",
       " 'PAFREQ1_',\n",
       " 'PAFREQ2_',\n",
       " '_MINAC11',\n",
       " '_MINAC21',\n",
       " 'STRFREQ_',\n",
       " 'PAMISS1_',\n",
       " 'PAMIN11_',\n",
       " 'PAMIN21_',\n",
       " 'PA1MIN_',\n",
       " 'PAVIG11_',\n",
       " 'PAVIG21_',\n",
       " 'PA1VIGM_',\n",
       " '_PACAT1',\n",
       " '_PAINDX1',\n",
       " '_PA150R2',\n",
       " '_PA300R2',\n",
       " '_PA30021',\n",
       " '_PASTRNG',\n",
       " '_PAREC1',\n",
       " '_PASTAE1',\n",
       " '_LMTACT1',\n",
       " '_LMTWRK1',\n",
       " '_LMTSCL1',\n",
       " '_FLSHOT6',\n",
       " '_PNEUMO2',\n",
       " '_AIDTST3']"
      ]
     },
     "execution_count": 124,
     "metadata": {},
     "output_type": "execute_result"
    }
   ],
   "source": [
    "keep_names"
   ]
  },
  {
   "cell_type": "markdown",
   "id": "d1a70c0f",
   "metadata": {},
   "source": []
  }
 ],
 "metadata": {
  "kernelspec": {
   "display_name": "base",
   "language": "python",
   "name": "python3"
  },
  "language_info": {
   "codemirror_mode": {
    "name": "ipython",
    "version": 3
   },
   "file_extension": ".py",
   "mimetype": "text/x-python",
   "name": "python",
   "nbconvert_exporter": "python",
   "pygments_lexer": "ipython3",
   "version": "3.13.2"
  }
 },
 "nbformat": 4,
 "nbformat_minor": 5
}
